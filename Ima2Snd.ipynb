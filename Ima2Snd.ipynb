{
 "cells": [
  {
   "cell_type": "code",
   "execution_count": 54,
   "metadata": {
    "collapsed": false
   },
   "outputs": [],
   "source": [
    "from PIL import Image, ImageDraw\n",
    "import numpy as np\n",
    "import matplotlib.pyplot as plt"
   ]
  },
  {
   "cell_type": "code",
   "execution_count": 2,
   "metadata": {
    "collapsed": false,
    "scrolled": true
   },
   "outputs": [
    {
     "data": {
      "image/png": "[encoded data removed]",
      "text/plain": [
       "<PIL.PngImagePlugin.PngImageFile image mode=RGBA size=128x128 at 0x7F1E1E24C898>"
      ]
     },
     "execution_count": 2,
     "metadata": {},
     "output_type": "execute_result"
    }
   ],
   "source": [
    "im = Image.open(\"life.png\")\n",
    "w, h = im.size\n",
    "im"
   ]
  },
  {
   "cell_type": "code",
   "execution_count": 3,
   "metadata": {
    "collapsed": false
   },
   "outputs": [],
   "source": [
    "def pixMatrix(im):\n",
    "    w, h = im.size\n",
    "    pix = np.zeros((w, h, 4))\n",
    "    for i in range(w):\n",
    "        for j in range(h):\n",
    "            pix[i, j] = im.getpixel((i, j))\n",
    "    return pix"
   ]
  },
  {
   "cell_type": "code",
   "execution_count": 4,
   "metadata": {
    "collapsed": false
   },
   "outputs": [],
   "source": [
    "def submatrix(x, depth=0, maxdepth=True):\n",
    "    if 2**depth <= x.shape[0] and maxdepth:\n",
    "        scl = int(w/(2**depth))\n",
    "        return np.array([x[j*scl:(j+1)*scl, i*scl:(i+1)*scl].mean(axis=(0,1)).astype(int)\n",
    "                      for j in range(2**depth)\n",
    "                      for i in range(2**depth)]).reshape((2**depth, 2**depth, 4))\n",
    "    else:\n",
    "        return x"
   ]
  },
  {
   "cell_type": "code",
   "execution_count": 44,
   "metadata": {
    "collapsed": false
   },
   "outputs": [],
   "source": [
    "def draw(file, depth):\n",
    "    im = Image.open(file)\n",
    "    pix = pixMatrix(im)\n",
    "    nm = Image.new('RGBA', im.size, (255,255,255,0))\n",
    "    sub = submatrix(pix, depth)\n",
    "    dr = ImageDraw.Draw(nm)\n",
    "    n = 1 << depth\n",
    "    print(n)\n",
    "    for i in range(n):\n",
    "        for j in range(n):\n",
    "            dr.rectangle(((i*w/n, j*w/n), ((i+1)*w/n, (j+1)*w/n)), fill=tuple(sub[i,j]))\n",
    "    return nm"
   ]
  },
  {
   "cell_type": "code",
   "execution_count": 45,
   "metadata": {
    "collapsed": false
   },
   "outputs": [
    {
     "name": "stdout",
     "output_type": "stream",
     "text": [
      "4\n"
     ]
    },
    {
     "data": {
      "image/png": "[encoded data removed]",
      "text/plain": [
       "<PIL.Image.Image image mode=RGBA size=128x128 at 0x7F1E1E117860>"
      ]
     },
     "execution_count": 45,
     "metadata": {},
     "output_type": "execute_result"
    }
   ],
   "source": [
    "draw(\"life.png\", 2)"
   ]
  },
  {
   "cell_type": "code",
   "execution_count": 7,
   "metadata": {
    "collapsed": true
   },
   "outputs": [],
   "source": [
    "def rot(n, x, y, rx, ry):\n",
    "    if ry == 0:\n",
    "        if rx == 1:\n",
    "            x = n - 1 - x\n",
    "            y = n - 1 - y\n",
    "        return y, x\n",
    "    return x, y"
   ]
  },
  {
   "cell_type": "code",
   "execution_count": 8,
   "metadata": {
    "collapsed": true
   },
   "outputs": [],
   "source": [
    "def xy2d(n, x, y):\n",
    "    d = 0\n",
    "    s = int(n/2)\n",
    "    while s > 0:\n",
    "        rx = (x & s) > 0\n",
    "        ry = (y & s) > 0\n",
    "        d += s * s * ((3 * rx) ^ ry)\n",
    "        rot(s, x, y, rx, ry)\n",
    "        s = int(s/2)\n",
    "    return d;"
   ]
  },
  {
   "cell_type": "code",
   "execution_count": 9,
   "metadata": {
    "collapsed": false
   },
   "outputs": [],
   "source": [
    "def colorVector(file, depth):\n",
    "    im = Image.open(file)\n",
    "    px = pixMatrix(im)\n",
    "    ma = submatrix(px, depth)\n",
    "    N = 2**depth\n",
    "    freq = np.zeros(N*N*4).reshape(N*N, 4)\n",
    "    for i in range(N):\n",
    "        for j in range(N):\n",
    "            freq[xy2d(N, i, j)] = ma[i, j]\n",
    "    return freq"
   ]
  },
  {
   "cell_type": "code",
   "execution_count": 13,
   "metadata": {
    "collapsed": false
   },
   "outputs": [],
   "source": [
    "def drawV(file, depth):\n",
    "    v = colorVector(file, depth).astype(int)\n",
    "    sz = im.size[1]/np.log2(v.size/4)\n",
    "    nm = Image.new('RGBA', (int(sz*v.size/4), int(sz)), (255,255,255,0))\n",
    "    dr = ImageDraw.Draw(nm)\n",
    "    for i in range(int(v.size/4)):\n",
    "        dr.rectangle(((i*sz, 0), ((i+1)*sz), sz), fill=tuple(v[i]))\n",
    "    return nm"
   ]
  },
  {
   "cell_type": "code",
   "execution_count": 41,
   "metadata": {
    "collapsed": true
   },
   "outputs": [],
   "source": [
    "def coord(xy, sz, n):\n",
    "    w = sz[0]\n",
    "    return tuple(map(lambda x: int(w/n * (x + 1/2)), xy))"
   ]
  },
  {
   "cell_type": "code",
   "execution_count": 115,
   "metadata": {
    "collapsed": false
   },
   "outputs": [],
   "source": [
    "def drawF(file, depth):\n",
    "    n = (1 << depth)\n",
    "    x = np.zeros(n**2, dtype=np.int16)\n",
    "    y = np.zeros(n**2, dtype=np.int16)\n",
    "    for i in range(0, n**2):\n",
    "        x[i], y[i] = d2xy(n, i)\n",
    "\n",
    "    im = draw(\"life.png\", depth)\n",
    "    dr = ImageDraw.Draw(im)\n",
    "    \n",
    "    dr.line(list(zip(w*(x+0.5)/n, w*(y+0.5)/n)), fill='blue')\n",
    "    del dr\n",
    "    return im"
   ]
  },
  {
   "cell_type": "code",
   "execution_count": 116,
   "metadata": {
    "collapsed": false
   },
   "outputs": [],
   "source": [
    "# Just for frontend/testing\n",
    "def d2xy(n, d):\n",
    "    t = d\n",
    "    x = y = 0\n",
    "    s = 1\n",
    "    while (s < n):\n",
    "        rx = 1 & int(t / 2)\n",
    "        ry = 1 & (int(t) ^ rx)\n",
    "        x, y = rot(s, x, y, rx, ry)\n",
    "        x += s * rx\n",
    "        y += s * ry\n",
    "        t /= 4\n",
    "        s *= 2\n",
    "    return x, y"
   ]
  },
  {
   "cell_type": "code",
   "execution_count": 153,
   "metadata": {
    "collapsed": false
   },
   "outputs": [
    {
     "name": "stdout",
     "output_type": "stream",
     "text": [
      "32\n"
     ]
    },
    {
     "data": {
      "image/png": "[encoded data removed]",
      "text/plain": [
       "<PIL.Image.Image image mode=RGBA size=128x128 at 0x7F1E192B2198>"
      ]
     },
     "execution_count": 153,
     "metadata": {},
     "output_type": "execute_result"
    }
   ],
   "source": [
    "draw(\"life.png\", 4)"
   ]
  },
  {
   "cell_type": "code",
   "execution_count": 205,
   "metadata": {
    "collapsed": false
   },
   "outputs": [
    {
     "name": "stdout",
     "output_type": "stream",
     "text": [
      "8\n"
     ]
    },
    {
     "data": {
      "image/png": "[encoded data removed]",
      "text/plain": [
       "<PIL.Image.Image image mode=RGBA size=128x128 at 0x7F1E19339470>"
      ]
     },
     "execution_count": 205,
     "metadata": {},
     "output_type": "execute_result"
    }
   ],
   "source": [
    "drawF(\"life.png\", 3)"
   ]
  },
  {
   "cell_type": "code",
   "execution_count": 206,
   "metadata": {
    "collapsed": false
   },
   "outputs": [
    {
     "data": {
      "image/png": "[encoded data removed]",
      "text/plain": [
       "<PIL.Image.Image image mode=RGBA size=1365x21 at 0x7F1E192E5CF8>"
      ]
     },
     "execution_count": 206,
     "metadata": {},
     "output_type": "execute_result"
    }
   ],
   "source": [
    "drawV(\"life.png\", 3)"
   ]
  }
 ],
 "metadata": {
  "kernelspec": {
   "display_name": "Python 3",
   "language": "python",
   "name": "python3"
  },
  "language_info": {
   "codemirror_mode": {
    "name": "ipython",
    "version": 3
   },
   "file_extension": ".py",
   "mimetype": "text/x-python",
   "name": "python",
   "nbconvert_exporter": "python",
   "pygments_lexer": "ipython3",
   "version": "3.6.3"
  }
 },
 "nbformat": 4,
 "nbformat_minor": 2
}
