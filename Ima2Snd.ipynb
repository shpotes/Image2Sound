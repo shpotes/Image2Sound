{
 "cells": [
  {
   "cell_type": "code",
   "execution_count": 6,
   "metadata": {
    "collapsed": false
   },
   "outputs": [],
   "source": [
    "from PIL import Image, ImageDraw\n",
    "import numpy as np"
   ]
  },
  {
   "cell_type": "code",
   "execution_count": 52,
   "metadata": {
    "collapsed": false,
    "scrolled": true
   },
   "outputs": [
    {
     "data": {
      "image/png": "[encoded data removed]",
      "text/plain": [
       "<PIL.PngImagePlugin.PngImageFile image mode=RGBA size=128x128 at 0x7FDC2D090F60>"
      ]
     },
     "execution_count": 52,
     "metadata": {},
     "output_type": "execute_result"
    }
   ],
   "source": [
    "im = Image.open(\"life.png\")\n",
    "im"
   ]
  },
  {
   "cell_type": "code",
   "execution_count": 108,
   "metadata": {
    "collapsed": false
   },
   "outputs": [],
   "source": [
    "def pixMatrix(im):\n",
    "    w, h = im.size\n",
    "    pix = np.zeros((w, h, 4))\n",
    "    for i in range(w):\n",
    "        for j in range(h):\n",
    "            pix[i, j] = im.getpixel((i, j))\n",
    "    return pix"
   ]
  },
  {
   "cell_type": "code",
   "execution_count": 54,
   "metadata": {
    "collapsed": false
   },
   "outputs": [],
   "source": [
    "def submatrix(x, depth=0, maxdepth=True):\n",
    "    if 2**depth <= x.shape[0] and maxdepth:\n",
    "        scl = int(w/(2**depth))\n",
    "        return np.array([x[j*scl:(j+1)*scl, i*scl:(i+1)*scl].mean(axis=(0,1)).astype(int)\n",
    "                      for j in range(2**depth)\n",
    "                      for i in range(2**depth)]).reshape((2**depth, 2**depth, 4))\n",
    "    else:\n",
    "        return x"
   ]
  },
  {
   "cell_type": "code",
   "execution_count": 118,
   "metadata": {
    "collapsed": false
   },
   "outputs": [],
   "source": [
    "def draw(file, depth):\n",
    "    im = Image.open(file)\n",
    "    pix = pixMatrix(im)\n",
    "    nm = Image.new('RGBA', (w, h), (255,255,255,0))\n",
    "    sub = submatrix(pix, depth)\n",
    "    dr = ImageDraw.Draw(nm)\n",
    "    n = 2**depth\n",
    "    print(n)\n",
    "    for i in range(n):\n",
    "        for j in range(n):\n",
    "            dr.rectangle(((i*w/n, j*w/n), ((i+1)*w/n, (j+1)*w/n)), fill=tuple(sub[i,j]))\n",
    "    return nm"
   ]
  },
  {
   "cell_type": "code",
   "execution_count": 124,
   "metadata": {
    "collapsed": false
   },
   "outputs": [
    {
     "name": "stdout",
     "output_type": "stream",
     "text": [
      "128\n"
     ]
    },
    {
     "data": {
      "image/png": "[encoded data removed]",
      "text/plain": [
       "<PIL.Image.Image image mode=RGBA size=128x128 at 0x7FDC2D109A58>"
      ]
     },
     "execution_count": 124,
     "metadata": {},
     "output_type": "execute_result"
    }
   ],
   "source": [
    "draw(\"life.png\",7)"
   ]
  },
  {
   "cell_type": "code",
   "execution_count": null,
   "metadata": {
    "collapsed": true
   },
   "outputs": [],
   "source": []
  }
 ],
 "metadata": {
  "kernelspec": {
   "display_name": "Python 3",
   "language": "python",
   "name": "python3"
  },
  "language_info": {
   "codemirror_mode": {
    "name": "ipython",
    "version": 3
   },
   "file_extension": ".py",
   "mimetype": "text/x-python",
   "name": "python",
   "nbconvert_exporter": "python",
   "pygments_lexer": "ipython3",
   "version": "3.6.3"
  }
 },
 "nbformat": 4,
 "nbformat_minor": 2
}
