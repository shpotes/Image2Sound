{
 "cells": [
  {
   "cell_type": "code",
   "execution_count": 1,
   "metadata": {
    "collapsed": false
   },
   "outputs": [],
   "source": [
    "from PIL import Image, ImageDraw\n",
    "import numpy as np"
   ]
  },
  {
   "cell_type": "code",
   "execution_count": 28,
   "metadata": {
    "collapsed": false,
    "scrolled": true
   },
   "outputs": [
    {
     "data": {
      "image/png": "[encoded data removed]",
      "text/plain": [
       "<PIL.PngImagePlugin.PngImageFile image mode=RGBA size=128x128 at 0x7F24C8948BE0>"
      ]
     },
     "execution_count": 28,
     "metadata": {},
     "output_type": "execute_result"
    }
   ],
   "source": [
    "im = Image.open(\"life.png\")\n",
    "w, h = im.size\n",
    "im"
   ]
  },
  {
   "cell_type": "code",
   "execution_count": 24,
   "metadata": {
    "collapsed": false
   },
   "outputs": [],
   "source": [
    "def pixMatrix(im):\n",
    "    w, h = im.size\n",
    "    pix = np.zeros((w, h, 4))\n",
    "    for i in range(w):\n",
    "        for j in range(h):\n",
    "            pix[i, j] = im.getpixel((i, j))\n",
    "    return pix"
   ]
  },
  {
   "cell_type": "code",
   "execution_count": 25,
   "metadata": {
    "collapsed": false
   },
   "outputs": [],
   "source": [
    "def submatrix(x, depth=0, maxdepth=True):\n",
    "    if 2**depth <= x.shape[0] and maxdepth:\n",
    "        scl = int(w/(2**depth))\n",
    "        return np.array([x[j*scl:(j+1)*scl, i*scl:(i+1)*scl].mean(axis=(0,1)).astype(int)\n",
    "                      for j in range(2**depth)\n",
    "                      for i in range(2**depth)]).reshape((2**depth, 2**depth, 4))\n",
    "    else:\n",
    "        return x"
   ]
  },
  {
   "cell_type": "code",
   "execution_count": 26,
   "metadata": {
    "collapsed": false
   },
   "outputs": [],
   "source": [
    "def draw(file, depth):\n",
    "    im = Image.open(file)\n",
    "    pix = pixMatrix(im)\n",
    "    nm = Image.new('RGBA', im.size, (255,255,255,0))\n",
    "    sub = submatrix(pix, depth)\n",
    "    dr = ImageDraw.Draw(nm)\n",
    "    n = 2**depth\n",
    "    print(n)\n",
    "    for i in range(n):\n",
    "        for j in range(n):\n",
    "            dr.rectangle(((i*w/n, j*w/n), ((i+1)*w/n, (j+1)*w/n)), fill=tuple(sub[i,j]))\n",
    "    return nm"
   ]
  },
  {
   "cell_type": "code",
   "execution_count": 92,
   "metadata": {
    "collapsed": false
   },
   "outputs": [
    {
     "name": "stdout",
     "output_type": "stream",
     "text": [
      "4\n"
     ]
    },
    {
     "data": {
      "image/png": "[encoded data removed]",
      "text/plain": [
       "<PIL.Image.Image image mode=RGBA size=128x128 at 0x7F24C896E5F8>"
      ]
     },
     "execution_count": 92,
     "metadata": {},
     "output_type": "execute_result"
    }
   ],
   "source": [
    "draw(\"life.png\", 2)"
   ]
  },
  {
   "cell_type": "code",
   "execution_count": 59,
   "metadata": {
    "collapsed": true
   },
   "outputs": [],
   "source": [
    "def rot(n, x, y, rx, ry):\n",
    "    if ry == 0:\n",
    "        if rx == 1:\n",
    "            x = n - 1 - x\n",
    "            y = n - 1 - y\n",
    "        return y, x\n",
    "    return x, y"
   ]
  },
  {
   "cell_type": "code",
   "execution_count": 71,
   "metadata": {
    "collapsed": true
   },
   "outputs": [],
   "source": [
    "def xy2d(n, x, y):\n",
    "    d = 0\n",
    "    s = int(n/2)\n",
    "    while s > 0:\n",
    "        rx = (x & s) > 0\n",
    "        ry = (y & s) > 0\n",
    "        d += s * s * ((3 * rx) ^ ry)\n",
    "        rot(s, x, y, rx, ry)\n",
    "        s = int(s/2)\n",
    "    return d;"
   ]
  },
  {
   "cell_type": "code",
   "execution_count": 99,
   "metadata": {
    "collapsed": false
   },
   "outputs": [],
   "source": [
    "def colorVector(file, depth):\n",
    "    im = Image.open(file)\n",
    "    px = pixMatrix(im)\n",
    "    ma = submatrix(px, depth)\n",
    "    N = 2**depth\n",
    "    freq = np.zeros(N*N*4).reshape(N*N, 4)\n",
    "    for i in range(N):\n",
    "        for j in range(N):\n",
    "            freq[xy2d(N, i, j)] = ma[i, j]\n",
    "    return freq"
   ]
  },
  {
   "cell_type": "code",
   "execution_count": 150,
   "metadata": {
    "collapsed": false
   },
   "outputs": [],
   "source": [
    "def drawV(v):\n",
    "    sz = im.size[1]/np.log2(v.size/4)\n",
    "    nm = Image.new('RGBA', (int(sz*v.size/4), int(sz)), (255,255,255,0))\n",
    "    dr = ImageDraw.Draw(nm)\n",
    "    for i in range(int(v.size/4)):\n",
    "        dr.rectangle(((i*sz, 0), ((i+1)*sz), sz), fill=tuple(v[i]))\n",
    "    return nm"
   ]
  },
  {
   "cell_type": "code",
   "execution_count": 153,
   "metadata": {
    "collapsed": false
   },
   "outputs": [
    {
     "name": "stdout",
     "output_type": "stream",
     "text": [
      "8\n"
     ]
    },
    {
     "data": {
      "image/png": "[encoded data removed]",
      "text/plain": [
       "<PIL.Image.Image image mode=RGBA size=128x128 at 0x7F24C88E73C8>"
      ]
     },
     "execution_count": 153,
     "metadata": {},
     "output_type": "execute_result"
    }
   ],
   "source": [
    "draw(\"life.png\", 3)"
   ]
  },
  {
   "cell_type": "code",
   "execution_count": 152,
   "metadata": {
    "collapsed": false
   },
   "outputs": [
    {
     "data": {
      "image/png": "[encoded data removed]",
      "text/plain": [
       "<PIL.Image.Image image mode=RGBA size=1365x21 at 0x7F24C88EEF28>"
      ]
     },
     "execution_count": 152,
     "metadata": {},
     "output_type": "execute_result"
    }
   ],
   "source": [
    "drawV(colorVector(\"life.png\", 3).astype(int))"
   ]
  }
 ],
 "metadata": {
  "kernelspec": {
   "display_name": "Python 3",
   "language": "python",
   "name": "python3"
  },
  "language_info": {
   "codemirror_mode": {
    "name": "ipython",
    "version": 3
   },
   "file_extension": ".py",
   "mimetype": "text/x-python",
   "name": "python",
   "nbconvert_exporter": "python",
   "pygments_lexer": "ipython3",
   "version": "3.6.3"
  }
 },
 "nbformat": 4,
 "nbformat_minor": 2
}
